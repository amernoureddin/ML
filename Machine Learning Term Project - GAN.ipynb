{
 "cells": [
  {
   "cell_type": "markdown",
   "metadata": {},
   "source": [
    "## EECS 461 Machine Learning Term Project - İstanbul Şehir Üniversitesi\n",
    "#### Professor: Mehmet Serkan Apaydın\n",
    "#### Student: Amer Nour Eddin\n",
    "\n",
    "#### 08.Feb.2018\n",
    "--------------------------------------------------------------------------------------------------------------------------------\n"
   ]
  },
  {
   "cell_type": "markdown",
   "metadata": {},
   "source": [
    "# << Generative Adversarial Networks GANs >>\n",
    "=================================================================="
   ]
  },
  {
   "cell_type": "markdown",
   "metadata": {},
   "source": [
    "### >>> Preface <<< "
   ]
  },
  {
   "cell_type": "markdown",
   "metadata": {},
   "source": [
    "### What is the difference between a Generative and a discriminative model?"
   ]
  },
  {
   "attachments": {},
   "cell_type": "markdown",
   "metadata": {},
   "source": [
    "![title](img/1.JPG)"
   ]
  },
  {
   "cell_type": "markdown",
   "metadata": {},
   "source": [
    "#### Generative Models:\n",
    "Aim to model how the data is generated. From [ P(x|c)×P(c)P(x|c)×P(c) ] we can obtain [ P(c|x)P(c|x) ] (Bayes' Theorem). - They (Generative models) try to learn a joint probability distribution P(x,c)P(x,c)\n",
    "##### Pros:\n",
    "We have the knowledge about the data distribution.\t\n",
    "##### Cons:\n",
    "Very expensive to get (a lot of parameters)\n",
    "Need lots of data\n",
    "\n",
    "#### Discriminative Models:  (The kind of Models we studied in class)\n",
    "Aim at learning P(c|x)P(c|x) by using probabilistic approaches (e.g., logistic regression), or by mapping classes from a set of points (e.g., perceptrons and SVMs).\n",
    "##### Pros:\n",
    "Easy to model\n",
    "##### Cons:\n",
    "To classify, but not to generate the data.\n",
    "\n",
    "\n"
   ]
  },
  {
   "cell_type": "markdown",
   "metadata": {},
   "source": [
    "Let's say you have input data x and you want to classify the data into labels y. A generative model learns the joint probability distribution p(x, y) and a discriminative model learns the conditional probability distribution p(y|x) - which you should read as \"the probability of y given x\".\n"
   ]
  },
  {
   "cell_type": "markdown",
   "metadata": {},
   "source": [
    "Here's a REALLY SIMPLE example. Suppose you have the following data in the form (x, y):\n",
    "\n",
    "### {(1, 0), (1, 0), (2, 0), (2, 1)}\n",
    "\n",
    "##### p(x, y) is:\n",
    "|     | y=0 | y=1 |\n",
    "|:---:|:---:|:---:|\n",
    "| x=1 | 1/2 |  0  |\n",
    "| x=2 | 1/4 | 1/4 |\n",
    "                                                            Generative\n",
    "\n",
    "-----------------------------------\n",
    "\n",
    "##### p(y|x) is:                                                               \n",
    "|     | y=0 | y=1 | \n",
    "|:---:|:---:|:---:|\n",
    "| x=1 |  1  |  0  | \n",
    "| x=2 | 1/2 | 1/2 |\n",
    "                                                          Discriminative\n",
    "\n",
    "\n",
    "\n",
    "\n",
    "\n",
    "If you take a few minutes to stare at those two matrices, you will understand the difference between the two probability distributions."
   ]
  },
  {
   "attachments": {},
   "cell_type": "markdown",
   "metadata": {},
   "source": [
    "\n",
    "![title](img/2.JPG)"
   ]
  },
  {
   "cell_type": "markdown",
   "metadata": {},
   "source": [
    "So __discriminative algorithms__ learn the boundaries between classes while __generative algorithms__learn the distribution of classes."
   ]
  },
  {
   "cell_type": "markdown",
   "metadata": {},
   "source": [
    "### What is a Generative Adversarial Network? "
   ]
  },
  {
   "cell_type": "markdown",
   "metadata": {},
   "source": [
    "Generative Adversarial Network GAN is a relatively new Machine Learning topic introduced by by Ian Goodfellow and his colleagues at the University of Montreal in 2014. So obviously it is a new field and it is now from the hottest research topics in Machine Learning.\n",
    "\n",
    "GAN, is a type of __generative model__ – a model that looks at the training data drawn from a certain distribution and tries to estimate that distribution. New samples obtained from such model look like original training samples.\n",
    "\n",
    "\n",
    "In words, GANs basically contains tow neural nets one is called the discriminator D and the other is called the generator G. D is playing the role of a detector (classifier) that will be trained on a real data and can after training decide on a given sample that it is real or fake, in the same time G is playing the role of the forger for D (adversary) so from a given noise or latent space it tries to generat a sample that will hopfully fool D and make it say that it is a real sample, and G keeps improving his samples as he gets caught by D until we reach a point that D cannot decide whether the sample is real or fake at that point we discard D and we now have a fully skilled generative network G that can generate nearly real samples from noise!"
   ]
  },
  {
   "attachments": {},
   "cell_type": "markdown",
   "metadata": {},
   "source": [
    "\n",
    "![title](img/3.JPG)\n",
    "![title](img/4.JPG)"
   ]
  },
  {
   "cell_type": "markdown",
   "metadata": {},
   "source": [
    "#### Generator\n",
    "+\tDraw some parameter z from a source of randomness, e.g. a normal distribution\n",
    "+\tApply a function f such that we get x′=G(u,w)\n",
    "+\tCompute the gradient with respect to w to minimize logp(y=fake|x′) === (cost)\n"
   ]
  },
  {
   "cell_type": "markdown",
   "metadata": {},
   "source": [
    "#### Discriminator\n",
    "+\tImprove the accuracy of a binary classifier f, i.e. maximize logp(y=fake|x′) for fake data and logp(y=true|x) for real data.\n",
    "+\tThere are two optimization problems running simultaneously, and the optimization terminates if a stalemate has been reached.\n",
    "+\tThe models play two distinct (literally, adversarial) roles.\n"
   ]
  },
  {
   "attachments": {},
   "cell_type": "markdown",
   "metadata": {},
   "source": [
    "\n",
    "![title](img/5.JPG)"
   ]
  },
  {
   "cell_type": "markdown",
   "metadata": {},
   "source": [
    "#### So, practicaly, there are really only 5 components to think about:\n",
    "   *\tR: The original, genuine data set\n",
    "   *\tI: The random noise that goes into the generator as a source of entropy\n",
    "   *\tG: The generator which tries to copy/mimic the original data set\n",
    "   *\tD: The discriminator which tries to tell apart G’s output from R \n",
    "   \n",
    " __* The actual ‘training’ loop is where we teach G to trick D and D to beware G.__\n"
   ]
  },
  {
   "cell_type": "markdown",
   "metadata": {},
   "source": [
    "## Use cases of GANs"
   ]
  },
  {
   "attachments": {},
   "cell_type": "markdown",
   "metadata": {},
   "source": [
    "\n",
    "![title](img/6.JPG)"
   ]
  },
  {
   "attachments": {},
   "cell_type": "markdown",
   "metadata": {},
   "source": [
    "\n",
    "![title](img/8.JPG)"
   ]
  },
  {
   "attachments": {},
   "cell_type": "markdown",
   "metadata": {},
   "source": [
    "Essentially, Generate images, videos, text, any data type!\n",
    "\n",
    "Researchers from Insilico Medicine proposed an approach of artificially intelligent drug discovery using GANs. The goal is to train the Generator to sample drug candidates for a given disease as precisely as possible to existing drugs from a Drug Database.\n",
    "\n",
    "\n",
    "![title](img/7.JPG)"
   ]
  },
  {
   "cell_type": "markdown",
   "metadata": {},
   "source": [
    "### Types of GANs"
   ]
  },
  {
   "cell_type": "markdown",
   "metadata": {},
   "source": [
    "There are many types of GANs;\n",
    "\n",
    "+ DCGAN(Deep Convolutional GAN)\n",
    "+ CGAN (Conditional GAN)\n",
    "+ Improved DCGAN\n",
    "+ etc. \n",
    "\n",
    "I won't explain these types since my focus will be on one specific type which is called __WGAN (Wasserstein Generative Adverserial Network)__"
   ]
  },
  {
   "cell_type": "markdown",
   "metadata": {},
   "source": [
    "GANs (vanilla GANs) have always had problems with convergence and, as a consequence, you don’t really know when to stop training them. In other words, the loss function doesn’t correlate with image quality. This is a big problem because:\n",
    "\n",
    "*\tYou need to be constantly looking at the samples to tell whether your model is training correctly or not.\n",
    "*\tYou don’t know when to stop training (no perfect convergence).\n",
    "*\tYou don’t have a numerical value that tells you how well you are tuning the parameters.\n",
    "\n",
    "This interpretability issue is one of the problems that Wasserstein GANs aims to solve. How? GANs (Vanilla GANs) can be interpreted to minimize the __Jensen-Shannon divergence__, which is 0 if the real and fake distribution don’t overlap (which is usually the case). So, instead of minimizing the JS divergence, the authors use the __Wasserstein distance aka. Eearth Mover distance__, which describes the distance between the “points” from one distribution to the other.\n",
    "\n",
    "So, WassGAN has a loss function that correlates with image quality and ***enables convergence***. It is also ***more stable***, meaning that it is not as dependent on the architecture.\n",
    "\n",
    "So, if you are __looking for a state-of-the-art GAN with the highest training stability__ and __want an informative and interpretable loss function.__ your choice is to use the WGAN.\n"
   ]
  },
  {
   "cell_type": "markdown",
   "metadata": {},
   "source": [
    "##### Below is an example plot for the (Loss) of a normal GAN that can clearly show you the instability problem when training the GANs\n",
    "\n",
    "P.S. I will create my own plot for my own WGAN at the end of my code which will show the difference and how WGAN is more stable."
   ]
  },
  {
   "attachments": {},
   "cell_type": "markdown",
   "metadata": {},
   "source": [
    "\n",
    "![title](img/9.JPG)"
   ]
  },
  {
   "cell_type": "markdown",
   "metadata": {},
   "source": [
    "## Tensorflow implementation for the WGAN \n",
    "=============================================================\n",
    "###### + detailed comments"
   ]
  },
  {
   "cell_type": "markdown",
   "metadata": {},
   "source": [
    "The following is a very simple and straight forward implementation for a WGAN using Tensorflow framework.\n",
    "\n",
    "**The MNIST dataset is used as the real dataset and the code is a simple Wasserstein Generative Adverserial Network architecture that tries learning how to produce the MNIST dataset from a random noise..** (So the desired output is the MNIST digits, from input of random noise)\n",
    "\n",
    "*You can follow my comments line by line in case there are any ambiguous parts that you didn't understrand.* "
   ]
  },
  {
   "cell_type": "code",
   "execution_count": 10,
   "metadata": {
    "collapsed": true
   },
   "outputs": [],
   "source": [
    "# necessary imports\n",
    "\n",
    "import tensorflow as tf\n",
    "from tensorflow.examples.tutorials.mnist import input_data\n",
    "import numpy as np\n",
    "import matplotlib.pyplot as plt\n",
    "import matplotlib.gridspec as gridspec\n",
    "import os\n",
    "import time"
   ]
  },
  {
   "cell_type": "code",
   "execution_count": 11,
   "metadata": {
    "collapsed": true
   },
   "outputs": [],
   "source": [
    "# defining some constants\n",
    "\n",
    "mb_size = 32 # mini batch size\n",
    "X_dim = 784 # MNIST data input (img shape: 28*28)\n",
    "z_dim = 10 # MNIST total classes (0-9 digits)\n",
    "h_dim = 128 # hidden layer number of neurons"
   ]
  },
  {
   "cell_type": "code",
   "execution_count": 12,
   "metadata": {},
   "outputs": [
    {
     "name": "stdout",
     "output_type": "stream",
     "text": [
      "Extracting ../../MNIST_data\\train-images-idx3-ubyte.gz\n",
      "Extracting ../../MNIST_data\\train-labels-idx1-ubyte.gz\n",
      "Extracting ../../MNIST_data\\t10k-images-idx3-ubyte.gz\n",
      "Extracting ../../MNIST_data\\t10k-labels-idx1-ubyte.gz\n"
     ]
    }
   ],
   "source": [
    "# Loading the data\n",
    "\n",
    "mnist = input_data.read_data_sets('../../MNIST_data', one_hot=True)"
   ]
  },
  {
   "cell_type": "code",
   "execution_count": 5,
   "metadata": {},
   "outputs": [
    {
     "data": {
      "text/plain": [
       "<tensorflow.contrib.learn.python.learn.datasets.mnist.DataSet at 0x23d480adf60>"
      ]
     },
     "execution_count": 5,
     "metadata": {},
     "output_type": "execute_result"
    }
   ],
   "source": [
    "mnist[0]"
   ]
  },
  {
   "cell_type": "code",
   "execution_count": 13,
   "metadata": {
    "collapsed": true
   },
   "outputs": [],
   "source": [
    "# Xavier initilization function for implementing the random weight initialization for the neural network\n",
    "def xavier_init(size):\n",
    "    in_dim = size[0]\n",
    "    xavier_stddev = 1. / tf.sqrt(in_dim / 2.)\n",
    "    return tf.random_normal(shape=size, stddev=xavier_stddev)"
   ]
  },
  {
   "cell_type": "markdown",
   "metadata": {},
   "source": [
    "### >>>>>>> Construction Phase <<<<<<<"
   ]
  },
  {
   "cell_type": "code",
   "execution_count": 14,
   "metadata": {
    "collapsed": true
   },
   "outputs": [],
   "source": [
    "X = tf.placeholder(tf.float32, shape=[None, X_dim]) # a placeholder for the input of the Discriminator (real data)\n",
    "\n",
    "# Discriminator First Layar\n",
    "D_W1 = tf.Variable(xavier_init([X_dim, h_dim])) # wights\n",
    "D_b1 = tf.Variable(tf.zeros(shape=[h_dim])) # bias\n",
    "\n",
    "# Discriminator Second Layar\n",
    "D_W2 = tf.Variable(xavier_init([h_dim, 1])) #wights\n",
    "D_b2 = tf.Variable(tf.zeros(shape=[1])) # bias\n",
    "\n",
    "theta_D = [D_W1, D_W2, D_b1, D_b2]  # theta_D is a list of the Discriminator parameters"
   ]
  },
  {
   "cell_type": "code",
   "execution_count": 15,
   "metadata": {
    "collapsed": true
   },
   "outputs": [],
   "source": [
    "z = tf.placeholder(tf.float32, shape=[None, z_dim]) # a placeholder for the input of the Generator (random noise)\n",
    "\n",
    "# Generator Second Layar\n",
    "G_W1 = tf.Variable(xavier_init([z_dim, h_dim])) # wights\n",
    "G_b1 = tf.Variable(tf.zeros(shape=[h_dim])) # bias\n",
    "\n",
    "# Generator Second Layar\n",
    "G_W2 = tf.Variable(xavier_init([h_dim, X_dim])) # wights\n",
    "G_b2 = tf.Variable(tf.zeros(shape=[X_dim])) # bias\n",
    "\n",
    "theta_G = [G_W1, G_W2, G_b1, G_b2] # theta_D is a list of the Generator parameters\n"
   ]
  },
  {
   "cell_type": "code",
   "execution_count": 16,
   "metadata": {
    "collapsed": true
   },
   "outputs": [],
   "source": [
    "# random values size m*n\n",
    "def sample_z(m, n):\n",
    "    return np.random.uniform(-1., 1., size=[m, n])"
   ]
  },
  {
   "cell_type": "code",
   "execution_count": 17,
   "metadata": {
    "collapsed": true
   },
   "outputs": [],
   "source": [
    "# Generator Neural Network function\n",
    "def generator(z):\n",
    "    # multiply input (z) matrix with (wights) matrix and add the result to bias values and feed all of that into a RELU acti. fn.\n",
    "    G_h1 = tf.nn.relu(tf.matmul(z, G_W1) + G_b1) # RELU Activiation function used\n",
    "    # same for the second layer\n",
    "    G_log_prob = tf.matmul(G_h1, G_W2) + G_b2 \n",
    "    # sigmoid funcion for the output\n",
    "    G_prob = tf.nn.sigmoid(G_log_prob) \n",
    "    return G_prob"
   ]
  },
  {
   "cell_type": "code",
   "execution_count": 18,
   "metadata": {
    "collapsed": true
   },
   "outputs": [],
   "source": [
    "# Discriminator Neural Network function\n",
    "def discriminator(x):\n",
    "    # multiply input (X) matrix with (wights) matrix and add the result to bias values and feed all of that into a RELU acti. fn.\n",
    "    D_h1 = tf.nn.relu(tf.matmul(x, D_W1) + D_b1) # RELU Activiation function used\n",
    "    out = tf.matmul(D_h1, D_W2) + D_b2\n",
    "    return out"
   ]
  },
  {
   "cell_type": "code",
   "execution_count": 19,
   "metadata": {
    "collapsed": true
   },
   "outputs": [],
   "source": [
    "# the following (plot function) is for extracting the outputed images from the generator\n",
    "def plot(samples):\n",
    "    fig = plt.figure(figsize=(4, 4))\n",
    "    gs = gridspec.GridSpec(4, 4)\n",
    "    gs.update(wspace=0.05, hspace=0.05)\n",
    "    for i, sample in enumerate(samples):\n",
    "        ax = plt.subplot(gs[i])\n",
    "        plt.axis('off')\n",
    "        ax.set_xticklabels([])\n",
    "        ax.set_yticklabels([])\n",
    "        ax.set_aspect('equal')\n",
    "        plt.imshow(sample.reshape(28, 28), cmap='Greys_r')\n",
    "\n",
    "    return fig"
   ]
  },
  {
   "cell_type": "code",
   "execution_count": 20,
   "metadata": {
    "collapsed": true
   },
   "outputs": [],
   "source": [
    "G_sample = generator(z) # instantiating a generator function (Generator NN)\n",
    "\n",
    "D_real = discriminator(X) # Classify real data! (Discriminator NN)\n",
    "D_fake = discriminator(G_sample) # classify (generator G_sample) generated data! (Discriminator NN)\n",
    "\n",
    "# Discriminator loss (cost function)\n",
    "D_loss = tf.reduce_mean(D_real) - tf.reduce_mean(D_fake) \n",
    "# Generator loss (cost function)\n",
    "G_loss = -tf.reduce_mean(D_fake) \n",
    "\n",
    "# Solving or optimizing the cost function of the discriminator \n",
    "D_solver = (tf.train.RMSPropOptimizer(learning_rate=1e-4).minimize(-D_loss, var_list=theta_D))\n",
    "# Solving or optimizing the cost function of the generator \n",
    "G_solver = (tf.train.RMSPropOptimizer(learning_rate=1e-4).minimize(G_loss, var_list=theta_G))\n",
    "\n",
    "clip_D = [p.assign(tf.clip_by_value(p, -0.01, 0.01)) for p in theta_D] # clip the Discriminator's theta values [-0.01 - 0.01]\n"
   ]
  },
  {
   "cell_type": "markdown",
   "metadata": {},
   "source": [
    "### >>>>>>> Execution Phase <<<<<<<"
   ]
  },
  {
   "cell_type": "code",
   "execution_count": 59,
   "metadata": {
    "scrolled": false
   },
   "outputs": [
    {
     "name": "stdout",
     "output_type": "stream",
     "text": [
      "Iteration: 0 ---> Discriminator loss: -0.0001722 | Generator loss: -0.004419\n",
      "Iteration: 100 ---> Discriminator loss: 1.866 | Generator loss: 1.388\n",
      "Iteration: 200 ---> Discriminator loss: 1.755 | Generator loss: 1.25\n",
      "Iteration: 300 ---> Discriminator loss: 1.563 | Generator loss: 0.9834\n",
      "Iteration: 400 ---> Discriminator loss: 1.311 | Generator loss: 0.8105\n",
      "Iteration: 500 ---> Discriminator loss: 1.082 | Generator loss: 0.7432\n",
      "Iteration: 600 ---> Discriminator loss: 0.6516 | Generator loss: 0.577\n",
      "Iteration: 700 ---> Discriminator loss: 0.444 | Generator loss: 0.567\n",
      "Iteration: 800 ---> Discriminator loss: 0.291 | Generator loss: 0.495\n",
      "Iteration: 900 ---> Discriminator loss: 0.1747 | Generator loss: 0.3538\n",
      "Iteration: 1000 ---> Discriminator loss: 0.1087 | Generator loss: 0.1371\n",
      "Iteration: 1100 ---> Discriminator loss: 0.07424 | Generator loss: 0.05151\n",
      "Iteration: 1200 ---> Discriminator loss: 0.02353 | Generator loss: 0.1423\n",
      "Iteration: 1300 ---> Discriminator loss: 0.03588 | Generator loss: -0.006396\n",
      "Iteration: 1400 ---> Discriminator loss: 0.01009 | Generator loss: -0.0221\n",
      "Iteration: 1500 ---> Discriminator loss: -0.006728 | Generator loss: -0.01399\n",
      "Iteration: 1600 ---> Discriminator loss: -0.00364 | Generator loss: -0.03834\n",
      "Iteration: 1700 ---> Discriminator loss: 0.004079 | Generator loss: -0.01583\n",
      "Iteration: 1800 ---> Discriminator loss: -0.001397 | Generator loss: 0.03745\n",
      "Iteration: 1900 ---> Discriminator loss: 0.01467 | Generator loss: -0.08773\n",
      "Iteration: 2000 ---> Discriminator loss: 0.0015 | Generator loss: 0.05813\n",
      "Iteration: 2100 ---> Discriminator loss: 0.003125 | Generator loss: -0.02784\n",
      "Iteration: 2200 ---> Discriminator loss: -0.003974 | Generator loss: -0.05084\n",
      "Iteration: 2300 ---> Discriminator loss: -0.002742 | Generator loss: -0.01168\n",
      "Iteration: 2400 ---> Discriminator loss: -0.002219 | Generator loss: -0.05382\n",
      "Iteration: 2500 ---> Discriminator loss: -9.033e-05 | Generator loss: 0.02522\n",
      "Iteration: 2600 ---> Discriminator loss: -0.003919 | Generator loss: 0.005442\n",
      "Iteration: 2700 ---> Discriminator loss: 0.002388 | Generator loss: 0.02106\n",
      "Iteration: 2800 ---> Discriminator loss: 0.005006 | Generator loss: -0.05325\n",
      "Iteration: 2900 ---> Discriminator loss: 0.003125 | Generator loss: 0.02574\n",
      "Iteration: 3000 ---> Discriminator loss: 0.002744 | Generator loss: -0.01463\n",
      "Iteration: 3100 ---> Discriminator loss: 0.00192 | Generator loss: -0.01618\n",
      "Iteration: 3200 ---> Discriminator loss: -0.0003237 | Generator loss: 0.09752\n",
      "Iteration: 3300 ---> Discriminator loss: -0.002131 | Generator loss: 0.04974\n",
      "Iteration: 3400 ---> Discriminator loss: 0.001867 | Generator loss: 0.05338\n",
      "Iteration: 3500 ---> Discriminator loss: 0.01152 | Generator loss: -0.1186\n",
      "Iteration: 3600 ---> Discriminator loss: 1.583e-05 | Generator loss: 0.04117\n",
      "Iteration: 3700 ---> Discriminator loss: 0.01144 | Generator loss: 0.07178\n",
      "Iteration: 3800 ---> Discriminator loss: 0.004655 | Generator loss: 0.02911\n",
      "Iteration: 3900 ---> Discriminator loss: 0.01376 | Generator loss: 0.03473\n",
      "Iteration: 4000 ---> Discriminator loss: 0.03532 | Generator loss: 0.04483\n",
      "Iteration: 4100 ---> Discriminator loss: 0.06896 | Generator loss: 0.006327\n",
      "Iteration: 4200 ---> Discriminator loss: 0.09151 | Generator loss: -0.004228\n",
      "Iteration: 4300 ---> Discriminator loss: 0.06745 | Generator loss: -0.03444\n",
      "Iteration: 4400 ---> Discriminator loss: 0.079 | Generator loss: -0.01986\n",
      "Iteration: 4500 ---> Discriminator loss: 0.06788 | Generator loss: -0.02685\n",
      "Iteration: 4600 ---> Discriminator loss: 0.0549 | Generator loss: 0.004225\n",
      "Iteration: 4700 ---> Discriminator loss: 0.07113 | Generator loss: 0.003449\n",
      "Iteration: 4800 ---> Discriminator loss: 0.06269 | Generator loss: -0.007239\n",
      "Iteration: 4900 ---> Discriminator loss: 0.06401 | Generator loss: 0.0007231\n",
      "Iteration: 5000 ---> Discriminator loss: 0.0592 | Generator loss: -0.02323\n",
      "Iteration: 5100 ---> Discriminator loss: 0.04501 | Generator loss: -0.01479\n",
      "Iteration: 5200 ---> Discriminator loss: 0.05571 | Generator loss: 0.003463\n",
      "Iteration: 5300 ---> Discriminator loss: 0.05349 | Generator loss: -0.01853\n",
      "Iteration: 5400 ---> Discriminator loss: 0.06154 | Generator loss: -0.01887\n",
      "Iteration: 5500 ---> Discriminator loss: 0.04584 | Generator loss: -0.004327\n",
      "Iteration: 5600 ---> Discriminator loss: 0.05585 | Generator loss: -0.02196\n",
      "Iteration: 5700 ---> Discriminator loss: 0.05074 | Generator loss: -0.0116\n",
      "Iteration: 5800 ---> Discriminator loss: 0.04194 | Generator loss: 0.01627\n",
      "Iteration: 5900 ---> Discriminator loss: 0.04069 | Generator loss: 0.001608\n",
      "Iteration: 6000 ---> Discriminator loss: 0.03648 | Generator loss: -0.02203\n",
      "Iteration: 6100 ---> Discriminator loss: 0.04014 | Generator loss: -0.006799\n",
      "Iteration: 6200 ---> Discriminator loss: 0.04768 | Generator loss: -0.01778\n",
      "Iteration: 6300 ---> Discriminator loss: 0.03643 | Generator loss: -0.008161\n",
      "Iteration: 6400 ---> Discriminator loss: 0.04454 | Generator loss: -0.001805\n",
      "Iteration: 6500 ---> Discriminator loss: 0.04442 | Generator loss: -0.02623\n",
      "Iteration: 6600 ---> Discriminator loss: 0.03576 | Generator loss: -0.01259\n",
      "Iteration: 6700 ---> Discriminator loss: 0.04656 | Generator loss: -0.02031\n",
      "Iteration: 6800 ---> Discriminator loss: 0.0329 | Generator loss: -0.0267\n",
      "Iteration: 6900 ---> Discriminator loss: 0.03876 | Generator loss: -0.008109\n",
      "Iteration: 7000 ---> Discriminator loss: 0.04208 | Generator loss: 0.003815\n",
      "Iteration: 7100 ---> Discriminator loss: 0.04396 | Generator loss: -0.02208\n",
      "Iteration: 7200 ---> Discriminator loss: 0.03573 | Generator loss: -0.01786\n",
      "Iteration: 7300 ---> Discriminator loss: 0.03503 | Generator loss: -0.01262\n",
      "Iteration: 7400 ---> Discriminator loss: 0.0449 | Generator loss: -0.0263\n",
      "Iteration: 7500 ---> Discriminator loss: 0.03994 | Generator loss: -0.01685\n",
      "Iteration: 7600 ---> Discriminator loss: 0.04037 | Generator loss: -0.006621\n",
      "Iteration: 7700 ---> Discriminator loss: 0.04632 | Generator loss: -0.02391\n",
      "Iteration: 7800 ---> Discriminator loss: 0.03694 | Generator loss: -0.0181\n",
      "Iteration: 7900 ---> Discriminator loss: 0.03192 | Generator loss: 0.005092\n",
      "Iteration: 8000 ---> Discriminator loss: 0.03663 | Generator loss: -0.01162\n",
      "Iteration: 8100 ---> Discriminator loss: 0.04003 | Generator loss: -0.02369\n",
      "Iteration: 8200 ---> Discriminator loss: 0.04232 | Generator loss: -0.0002248\n",
      "Iteration: 8300 ---> Discriminator loss: 0.04586 | Generator loss: -0.02128\n",
      "Iteration: 8400 ---> Discriminator loss: 0.03653 | Generator loss: -0.02488\n",
      "Iteration: 8500 ---> Discriminator loss: 0.03332 | Generator loss: -0.01273\n",
      "Iteration: 8600 ---> Discriminator loss: 0.03752 | Generator loss: -0.02989\n",
      "Iteration: 8700 ---> Discriminator loss: 0.03422 | Generator loss: -0.0275\n",
      "Iteration: 8800 ---> Discriminator loss: 0.03507 | Generator loss: -0.02421\n",
      "Iteration: 8900 ---> Discriminator loss: 0.03668 | Generator loss: -0.02978\n",
      "Iteration: 9000 ---> Discriminator loss: 0.02909 | Generator loss: -0.01998\n",
      "Iteration: 9100 ---> Discriminator loss: 0.03823 | Generator loss: -0.01559\n",
      "Iteration: 9200 ---> Discriminator loss: 0.03197 | Generator loss: -0.0155\n",
      "Iteration: 9300 ---> Discriminator loss: 0.03144 | Generator loss: -0.02647\n",
      "Iteration: 9400 ---> Discriminator loss: 0.02968 | Generator loss: -0.01462\n",
      "Iteration: 9500 ---> Discriminator loss: 0.03789 | Generator loss: -0.01137\n",
      "Iteration: 9600 ---> Discriminator loss: 0.02983 | Generator loss: -0.02143\n",
      "Iteration: 9700 ---> Discriminator loss: 0.03422 | Generator loss: -0.01592\n",
      "Iteration: 9800 ---> Discriminator loss: 0.03134 | Generator loss: -0.002442\n",
      "Iteration: 9900 ---> Discriminator loss: 0.03412 | Generator loss: -0.02562\n"
     ]
    },
    {
     "data": {
      "image/png": "[encoded data removed]",
      "text/plain": [
       "<matplotlib.figure.Figure at 0x2465992feb8>"
      ]
     },
     "metadata": {},
     "output_type": "display_data"
    }
   ],
   "source": [
    "# Execution Phase #\n",
    "\n",
    "sess = tf.Session() # create a tensorflow session\n",
    "sess.run(tf.global_variables_initializer()) # initialize all global variables \n",
    "\n",
    "# Create an output folder in the working directory for storing the result\n",
    "if not os.path.exists('out/'):\n",
    "    os.makedirs('out/')\n",
    "\n",
    "\n",
    "# the following function is for dynamically plotting the loss of both (Discriminator and Generator) during the training\n",
    "def plt_dynamic(x, y, y2, ax, colors=['b']):\n",
    "    for color in colors:       \n",
    "        ax.plot(x, y, color, label='Generator Error (Loss)')\n",
    "        ax2.plot(x, y2, 'g', label='Discriminator Error (Loss)')    \n",
    "    fig.canvas.draw()\n",
    "\n",
    "# also these are the plotting parameters and settings\n",
    "fig, ax = plt.subplots(figsize=(20, 10))\n",
    "ax2 = ax.twinx()\n",
    "ax.set_xlabel('Iterations') ; ax.set_ylabel('G Loss') ; ax2.set_ylabel('D Loss')\n",
    "ax.set_xlim(0,10000) ; ax.set_ylim(-1,2.5); ax2.set_ylim(-1,2.5)\n",
    "ax.legend(['Generator Error (Loss)'])\n",
    "ax2.legend(['Discriminator Error (Loss)'])\n",
    "ax.grid(color='b', linestyle='-', linewidth=0.2)\n",
    "xs, ys, y2s = [], [], []\n",
    "\n",
    "\n",
    "\n",
    "    \n",
    "# TRAINING #\n",
    "\n",
    "i = 0\n",
    "\n",
    "for it in range(10000): # typically 1m iteration for the training loop !but I chose 10.000 for compelling reasons\n",
    "    for _ in range(5):\n",
    "        X_mb, _ = mnist.train.next_batch(mb_size) # train using batches (size of batch: 32) defined previously\n",
    "            \n",
    "            # compute the Discriminator loss\n",
    "        _, D_loss_curr, _ = sess.run([D_solver, D_loss, clip_D], feed_dict={X: X_mb, z: sample_z(mb_size, z_dim)})\n",
    "        # compute the Generator loss\n",
    "    _, G_loss_curr = sess.run([G_solver, G_loss], feed_dict={z: sample_z(mb_size, z_dim)})\n",
    "    \n",
    "    # recording the loss values for plotting it daynamically\n",
    "    xs.append(it)\n",
    "    ys.append(G_loss_curr)\n",
    "    y2s.append(D_loss_curr)\n",
    "    plt_dynamic(xs, ys, y2s, ax)\n",
    "    time.sleep(.2)\n",
    "\n",
    "    \n",
    "    # Every 100 Iteration show me the D & G Loss (Which is the unique property of WGAN)\n",
    "    if it % 100 == 0:\n",
    "        print('Iteration: {} ---> Discriminator loss: {:.4} | Generator loss: {:.4}'.format(it, D_loss_curr, G_loss_curr))\n",
    "        \n",
    "    \n",
    "    # Every 1000 Iteration Plot and save an example of the outputed sample images to see the progress\n",
    "    if it % 1000 == 0:\n",
    "            samples = sess.run(G_sample, feed_dict={z: sample_z(16, z_dim)})\n",
    "            fig = plot(samples)\n",
    "            plt.savefig('out/{}.png'.format(str(i).zfill(3)), bbox_inches='tight')\n",
    "            i += 1\n",
    "            plt.close(fig)\n",
    "            \n",
    "# show the G&D loss plot at the end of training\n",
    "plt_dynamic(xs, ys, y2s, ax)\n",
    "\n"
   ]
  },
  {
   "cell_type": "markdown",
   "metadata": {},
   "source": [
    "The following is the results of the 10.000 iteration, we can clearly see somehow meaingfull digit like formations in the last stag. of course the more you iterate the more you will get better results."
   ]
  },
  {
   "attachments": {},
   "cell_type": "markdown",
   "metadata": {},
   "source": [
    "\n",
    "![title](img/10.JPG)"
   ]
  },
  {
   "cell_type": "markdown",
   "metadata": {},
   "source": [
    "The following plot is for loss during a 5000 Iteration (Generator) is the Blue line and (Discriminator) in Green, we can see that it is not quite converging and not perfectly stable, However still doing much better work than the normal GAN as we saw in a previous graph I showed."
   ]
  },
  {
   "attachments": {},
   "cell_type": "markdown",
   "metadata": {},
   "source": [
    "![title](img/11.JPG)"
   ]
  },
  {
   "cell_type": "markdown",
   "metadata": {},
   "source": [
    "As we can see below the results is not quite correct as I said before that is because training GANs requires much more time in order to give good results."
   ]
  },
  {
   "attachments": {},
   "cell_type": "markdown",
   "metadata": {},
   "source": [
    "![title](img/12.JPG)"
   ]
  },
  {
   "cell_type": "markdown",
   "metadata": {},
   "source": [
    "### Therefor, I decided to hit a higher number of Iterations and see the results, The maximum number of Iterations I could reach is 10.000 iteration. after about more than 5 hours with my laptop suffering and freezing many times. \n",
    "\n",
    "##### The results of the 10.000 iteration is shown in the output of the training cell above, just before the 5000 iteration results."
   ]
  },
  {
   "cell_type": "markdown",
   "metadata": {
    "collapsed": true
   },
   "source": [
    "# Conclusion\n"
   ]
  },
  {
   "cell_type": "markdown",
   "metadata": {},
   "source": [
    "To conclude, Generative Adverserial Nets are a type of generative models, which they may come in a different types (DCGAN, WGAN, ..). And here in my project I showed an implementation of a WGAN and marked its propreties and how it is doing better that the normal GAN.\n",
    "\n",
    "I tried to explain everything I learned in the most simplest form, so I didn't write a lot of details (my intention was to make it understandable and not looking so advanced topic).\n",
    "\n",
    "One thing I would like to say about the dataset, I mentioned in my progress report that I am having a problem with the art dataset but at the end I found a collection of art training data, however it was very very big (35 GB) you may check it in the link below, also I realized that training on such dataset (art) would take MUCHE MUCHE MORE time to converge and to give acceptable results (since it is a more complicated data in its content). So that is why I finally decided to stick with the MNIST dataset (though it is a simpler one it took more than 5 hrs to give some results)\n",
    "\n",
    "https://drive.google.com/file/d/1yHqS2zXgCiI9LO4gN-X5W18QYXC5bbQS/view\n",
    "\n"
   ]
  },
  {
   "cell_type": "markdown",
   "metadata": {},
   "source": [
    "***Side note; I know that I am doing a topic which is out of the scope as you told me, I tried somehow to include sklearn or something that we took in the class but I couldn't, since my hope was that we will take enough about deep learning part at the class (then I will no longer be out of the scope) but unfourtunatly we didn't have time to take enough from it. However, I hope that you take my efforts into considaration as I really learned a lot about something new and very important in the machine learning field.   ***\n",
    "\n",
    "## - The future of AI is Generative ! -"
   ]
  }
 ],
 "metadata": {
  "kernelspec": {
   "display_name": "Python 3",
   "language": "python",
   "name": "python3"
  },
  "language_info": {
   "codemirror_mode": {
    "name": "ipython",
    "version": 3
   },
   "file_extension": ".py",
   "mimetype": "text/x-python",
   "name": "python",
   "nbconvert_exporter": "python",
   "pygments_lexer": "ipython3",
   "version": "3.6.0"
  }
 },
 "nbformat": 4,
 "nbformat_minor": 2
}
